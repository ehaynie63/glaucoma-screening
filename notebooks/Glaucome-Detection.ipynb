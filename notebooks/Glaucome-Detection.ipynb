{
 "cells": [
  {
   "cell_type": "markdown",
   "id": "fc69f8e7",
   "metadata": {},
   "source": [
    "# Glaucoma Screening Service Prototype\n",
    "#### Portfolio Project by Elizabeth Haynie"
   ]
  },
  {
   "cell_type": "markdown",
   "id": "0d1f3afa",
   "metadata": {
    "scrolled": true
   },
   "source": [
    "The aim of this prototype is to explore whether a deep neural architecture, VGG16, can be used to reliably screen for Glaucoma. \n",
    "<table>\n",
    "    <tr>\n",
    "        <th style=\"text-align:center;\">Normal</th>\n",
    "        <th style=\"text-align:center;\">Glaucomatous</th>\n",
    "    </tr>\n",
    "    <tr><td><img style=\"width:224px; height:224px;\" src='../Data/train/Im012_ACRIMA.jpg'></td>\n",
    "   <td><img style=\"width:224px; height:224px;\" src='../Data/train/Im493_g_ACRIMA.jpg'></td></tr>\n",
    "    </table>"
   ]
  },
  {
   "cell_type": "code",
   "execution_count": 108,
   "id": "61ea7015",
   "metadata": {},
   "outputs": [
    {
     "name": "stdout",
     "output_type": "stream",
     "text": [
      "['Raw', 'test', 'train', 'val']\n"
     ]
    }
   ],
   "source": [
    "from tensorflow import keras\n",
    "import tensorflow as tf\n",
    "import numpy as np\n",
    "import pandas as pd\n",
    "import os\n",
    "print(os.listdir(\"../Data\"))\n",
    "import random \n",
    "import warnings\n",
    "from IPython.display import Image, HTML, display\n",
    "\n",
    "#Visualisation Libraries\n",
    "import matplotlib.pyplot as plt\n",
    "import seaborn as sns\n",
    "\n",
    "#Keras\n",
    "from tensorflow.keras.preprocessing import image\n",
    "from tensorflow.keras.preprocessing.image import ImageDataGenerator\n",
    "from tensorflow.keras.layers import Input, Lambda, Dense, Flatten\n",
    "from tensorflow.keras.models import Model\n",
    "from tensorflow.keras.applications.vgg19 import VGG19"
   ]
  },
  {
   "cell_type": "markdown",
   "id": "e46419f5",
   "metadata": {},
   "source": [
    "## Split the Data into Test, Train and Validate Sets"
   ]
  },
  {
   "cell_type": "code",
   "execution_count": 109,
   "id": "9b3a125e",
   "metadata": {},
   "outputs": [],
   "source": [
    "base_dir=\"../Data/\"\n",
    "train_dir=base_dir+'train'\n",
    "test_dir=base_dir+'test'\n",
    "val_dir=base_dir+'val'\n",
    "\n",
    "import sys\n",
    "from PIL import Image\n",
    "sys.modules['Image'] = Image "
   ]
  },
  {
   "cell_type": "code",
   "execution_count": 110,
   "id": "0792fd41",
   "metadata": {},
   "outputs": [
    {
     "data": {
      "text/plain": [
       "(349, 349)"
      ]
     },
     "execution_count": 110,
     "metadata": {},
     "output_type": "execute_result"
    }
   ],
   "source": [
    "# Checking image size, this is resized from [349, 349] to [224, 224] later\n",
    "im = Image.open(test_dir + '/Im013_ACRIMA.jpg')\n",
    "width, height = im.size\n",
    "width, height"
   ]
  },
  {
   "cell_type": "code",
   "execution_count": 111,
   "id": "ed6bc79f",
   "metadata": {},
   "outputs": [],
   "source": [
    "def get_df(path):\n",
    "    filenames = os.listdir(path)\n",
    "    labels = []\n",
    "    for i in filenames:\n",
    "        if '_g_' in i:\n",
    "            label = \"glaucoma\"\n",
    "        else:\n",
    "            label = \"benign\"\n",
    "\n",
    "        labels.append([i, label])\n",
    "    return pd.DataFrame(labels, columns=[\"id\", \"label\"])"
   ]
  },
  {
   "cell_type": "code",
   "execution_count": 112,
   "id": "44be1769",
   "metadata": {},
   "outputs": [
    {
     "data": {
      "text/plain": [
       "((423, 2), (141, 2), (141, 2))"
      ]
     },
     "execution_count": 112,
     "metadata": {},
     "output_type": "execute_result"
    }
   ],
   "source": [
    "df_train = get_df(train_dir)\n",
    "df_val = get_df(val_dir)\n",
    "df_test = get_df(test_dir)\n",
    "df_train.shape, df_val.shape, df_test.shape"
   ]
  },
  {
   "cell_type": "markdown",
   "id": "4db5d67b",
   "metadata": {},
   "source": [
    "## Data Preprocessing"
   ]
  },
  {
   "cell_type": "code",
   "execution_count": 113,
   "id": "94b431c0",
   "metadata": {},
   "outputs": [
    {
     "name": "stdout",
     "output_type": "stream",
     "text": [
      "Found 423 validated image filenames belonging to 2 classes.\n",
      "Found 141 validated image filenames belonging to 2 classes.\n",
      "Found 141 validated image filenames belonging to 2 classes.\n"
     ]
    }
   ],
   "source": [
    "train_datagen = ImageDataGenerator(rescale = 1./255, rotation_range=5, fill_mode='nearest', width_shift_range=0.05, height_shift_range=0.05, horizontal_flip=True, vertical_flip=True)\n",
    "training_set = train_datagen.flow_from_dataframe(dataframe=df_train,\n",
    "                                                 directory=train_dir, \n",
    "                                                 target_size=(224,224),\n",
    "                                                 x_col='id', \n",
    "                                                 y_col='label', \n",
    "                                                 shuffle=True,\n",
    "                                                 class_mode='categorical')\n",
    "\n",
    "test_datagen = ImageDataGenerator(rescale = 1./255)\n",
    "test_set = test_datagen.flow_from_dataframe(dataframe=df_test,\n",
    "                                                 directory=test_dir, \n",
    "                                                 target_size=(224,224),\n",
    "                                                 x_col='id', \n",
    "                                                 y_col='label', \n",
    "                                                 shuffle=True,\n",
    "                                                 class_mode='categorical')\n",
    "\n",
    "\n",
    "val_datagen = ImageDataGenerator(rescale = 1./255)\n",
    "val_set = val_datagen.flow_from_dataframe(dataframe=df_val,\n",
    "                                                 directory=val_dir, \n",
    "                                                 target_size=(224,224),\n",
    "                                                 x_col='id', \n",
    "                                                 y_col='label', \n",
    "                                                 shuffle=True,\n",
    "                                                 class_mode='categorical')\n"
   ]
  },
  {
   "cell_type": "code",
   "execution_count": 114,
   "id": "84081339",
   "metadata": {
    "scrolled": false
   },
   "outputs": [],
   "source": [
    "IMAGE_SIZE= [224,224]\n",
    "vgg = tf.keras.applications.VGG19(\n",
    "    include_top=False,\n",
    "    weights='imagenet',\n",
    "    input_shape=IMAGE_SIZE + [3]\n",
    ")\n",
    "# This sets the base that the layers are not trainable. If we'd want to train the layers with custom data, these two lines can be ommitted. \n",
    "for layer in vgg.layers:\n",
    "  layer.trainable = False"
   ]
  },
  {
   "cell_type": "code",
   "execution_count": 115,
   "id": "492e0aea",
   "metadata": {},
   "outputs": [
    {
     "name": "stdout",
     "output_type": "stream",
     "text": [
      "Model: \"model_3\"\n",
      "_________________________________________________________________\n",
      " Layer (type)                Output Shape              Param #   \n",
      "=================================================================\n",
      " input_3 (InputLayer)        [(None, 224, 224, 3)]     0         \n",
      "                                                                 \n",
      " block1_conv1 (Conv2D)       (None, 224, 224, 64)      1792      \n",
      "                                                                 \n",
      " block1_conv2 (Conv2D)       (None, 224, 224, 64)      36928     \n",
      "                                                                 \n",
      " block1_pool (MaxPooling2D)  (None, 112, 112, 64)      0         \n",
      "                                                                 \n",
      " block2_conv1 (Conv2D)       (None, 112, 112, 128)     73856     \n",
      "                                                                 \n",
      " block2_conv2 (Conv2D)       (None, 112, 112, 128)     147584    \n",
      "                                                                 \n",
      " block2_pool (MaxPooling2D)  (None, 56, 56, 128)       0         \n",
      "                                                                 \n",
      " block3_conv1 (Conv2D)       (None, 56, 56, 256)       295168    \n",
      "                                                                 \n",
      " block3_conv2 (Conv2D)       (None, 56, 56, 256)       590080    \n",
      "                                                                 \n",
      " block3_conv3 (Conv2D)       (None, 56, 56, 256)       590080    \n",
      "                                                                 \n",
      " block3_conv4 (Conv2D)       (None, 56, 56, 256)       590080    \n",
      "                                                                 \n",
      " block3_pool (MaxPooling2D)  (None, 28, 28, 256)       0         \n",
      "                                                                 \n",
      " block4_conv1 (Conv2D)       (None, 28, 28, 512)       1180160   \n",
      "                                                                 \n",
      " block4_conv2 (Conv2D)       (None, 28, 28, 512)       2359808   \n",
      "                                                                 \n",
      " block4_conv3 (Conv2D)       (None, 28, 28, 512)       2359808   \n",
      "                                                                 \n",
      " block4_conv4 (Conv2D)       (None, 28, 28, 512)       2359808   \n",
      "                                                                 \n",
      " block4_pool (MaxPooling2D)  (None, 14, 14, 512)       0         \n",
      "                                                                 \n",
      " block5_conv1 (Conv2D)       (None, 14, 14, 512)       2359808   \n",
      "                                                                 \n",
      " block5_conv2 (Conv2D)       (None, 14, 14, 512)       2359808   \n",
      "                                                                 \n",
      " block5_conv3 (Conv2D)       (None, 14, 14, 512)       2359808   \n",
      "                                                                 \n",
      " block5_conv4 (Conv2D)       (None, 14, 14, 512)       2359808   \n",
      "                                                                 \n",
      " block5_pool (MaxPooling2D)  (None, 7, 7, 512)         0         \n",
      "                                                                 \n",
      " flatten_3 (Flatten)         (None, 25088)             0         \n",
      "                                                                 \n",
      " dense_3 (Dense)             (None, 2)                 50178     \n",
      "                                                                 \n",
      "=================================================================\n",
      "Total params: 20,074,562\n",
      "Trainable params: 50,178\n",
      "Non-trainable params: 20,024,384\n",
      "_________________________________________________________________\n"
     ]
    }
   ],
   "source": [
    "x = Flatten()(vgg.output)\n",
    "prediction= Dense((2), activation='softmax')(x)\n",
    "model = Model(inputs=vgg.input, outputs=prediction)\n",
    "model.summary()\n"
   ]
  },
  {
   "cell_type": "markdown",
   "id": "02016bb4",
   "metadata": {},
   "source": [
    "## Model Training"
   ]
  },
  {
   "cell_type": "code",
   "execution_count": 116,
   "id": "fec91a17",
   "metadata": {
    "scrolled": true
   },
   "outputs": [
    {
     "name": "stdout",
     "output_type": "stream",
     "text": [
      "Epoch 1/5\n",
      "14/14 [==============================] - 99s 7s/step - loss: 1.0259 - accuracy: 0.5485 - true_positives: 232.0000 - false_positives: 191.0000 - true_negatives: 232.0000 - false_negatives: 191.0000 - sensitivity_at_specificity_4: 0.5910 - val_loss: 0.8110 - val_accuracy: 0.4539 - val_true_positives: 64.0000 - val_false_positives: 77.0000 - val_true_negatives: 64.0000 - val_false_negatives: 77.0000 - val_sensitivity_at_specificity_4: 0.4326\n",
      "Epoch 2/5\n",
      "14/14 [==============================] - 96s 7s/step - loss: 0.5787 - accuracy: 0.6667 - true_positives: 282.0000 - false_positives: 141.0000 - true_negatives: 282.0000 - false_negatives: 141.0000 - sensitivity_at_specificity_4: 0.8629 - val_loss: 0.4680 - val_accuracy: 0.7376 - val_true_positives: 104.0000 - val_false_positives: 37.0000 - val_true_negatives: 104.0000 - val_false_negatives: 37.0000 - val_sensitivity_at_specificity_4: 0.9574\n",
      "Epoch 3/5\n",
      "14/14 [==============================] - 91s 6s/step - loss: 0.4102 - accuracy: 0.8156 - true_positives: 345.0000 - false_positives: 78.0000 - true_negatives: 345.0000 - false_negatives: 78.0000 - sensitivity_at_specificity_4: 0.9645 - val_loss: 0.4695 - val_accuracy: 0.7872 - val_true_positives: 111.0000 - val_false_positives: 30.0000 - val_true_negatives: 111.0000 - val_false_negatives: 30.0000 - val_sensitivity_at_specificity_4: 0.9220\n",
      "Epoch 4/5\n",
      "14/14 [==============================] - 94s 7s/step - loss: 0.3630 - accuracy: 0.8582 - true_positives: 363.0000 - false_positives: 60.0000 - true_negatives: 363.0000 - false_negatives: 60.0000 - sensitivity_at_specificity_4: 0.9716 - val_loss: 0.3086 - val_accuracy: 0.8723 - val_true_positives: 123.0000 - val_false_positives: 18.0000 - val_true_negatives: 123.0000 - val_false_negatives: 18.0000 - val_sensitivity_at_specificity_4: 0.9858\n",
      "Epoch 5/5\n",
      "14/14 [==============================] - 99s 7s/step - loss: 0.3265 - accuracy: 0.8629 - true_positives: 365.0000 - false_positives: 58.0000 - true_negatives: 365.0000 - false_negatives: 58.0000 - sensitivity_at_specificity_4: 0.9905 - val_loss: 0.3192 - val_accuracy: 0.8723 - val_true_positives: 123.0000 - val_false_positives: 18.0000 - val_true_negatives: 123.0000 - val_false_negatives: 18.0000 - val_sensitivity_at_specificity_4: 0.9929\n"
     ]
    }
   ],
   "source": [
    "model.compile(loss='categorical_crossentropy',\n",
    "              optimizer='adam', \n",
    "              metrics=['accuracy', \n",
    "                       tf.keras.metrics.TruePositives(thresholds=None, name=\"true_positives\"), \n",
    "                       tf.keras.metrics.FalsePositives(thresholds=None, name=\"false_positives\"), \n",
    "                       tf.keras.metrics.TrueNegatives(thresholds=None, name=\"true_negatives\"), \n",
    "                       tf.keras.metrics.FalseNegatives(thresholds=None, name=\"false_negatives\"), \n",
    "                       tf.keras.metrics.SensitivityAtSpecificity(0.5)])\n",
    "history=model.fit(training_set, validation_data=val_set, epochs=5, batch_size=32)"
   ]
  },
  {
   "cell_type": "code",
   "execution_count": 117,
   "id": "0af159d1",
   "metadata": {},
   "outputs": [
    {
     "data": {
      "image/png": "[encoded data removed]",
      "text/plain": [
       "<Figure size 640x480 with 1 Axes>"
      ]
     },
     "metadata": {},
     "output_type": "display_data"
    },
    {
     "data": {
      "image/png": "[encoded data removed]",
      "text/plain": [
       "<Figure size 640x480 with 1 Axes>"
      ]
     },
     "metadata": {},
     "output_type": "display_data"
    }
   ],
   "source": [
    "# Plot Loss\n",
    "plt.plot(history.history['loss'], label='train loss')\n",
    "plt.plot(history.history['val_loss'], label='val loss')\n",
    "plt.legend()\n",
    "plt.show()\n",
    " \n",
    "# Plot Accuracies\n",
    "plt.plot(history.history['accuracy'], label='train accuracy')\n",
    "plt.plot(history.history['val_accuracy'], label='val accurary')\n",
    "plt.legend()\n",
    "plt.show()"
   ]
  },
  {
   "cell_type": "code",
   "execution_count": 118,
   "id": "7697635d",
   "metadata": {},
   "outputs": [],
   "source": [
    "def specificity(true_neg, false_pos):\n",
    "    result = true_neg/(true_neg + false_pos)\n",
    "    return result\n",
    "\n",
    "def sensitivity(true_pos, false_neg):\n",
    "    result = true_pos/(true_pos + false_neg)\n",
    "    return result"
   ]
  },
  {
   "cell_type": "code",
   "execution_count": 129,
   "id": "e8d14dad",
   "metadata": {},
   "outputs": [
    {
     "data": {
      "text/plain": [
       "([232.0, 282.0, 345.0, 363.0, 365.0],\n",
       " [191.0, 141.0, 78.0, 60.0, 58.0],\n",
       " [232.0, 282.0, 345.0, 363.0, 365.0])"
      ]
     },
     "execution_count": 129,
     "metadata": {},
     "output_type": "execute_result"
    }
   ],
   "source": [
    "# Select the metric from the final Epoch\n",
    "true_neg = history.history[\"true_negatives\"][-1]\n",
    "false_neg = history.history[\"false_negatives\"][-1]\n",
    "true_pos = history.history[\"true_positives\"][-1]\n",
    "false_pos = history.history[\"false_positives\"][-1]\n",
    "#true_neg,false_neg, false_pos, true_neg\n",
    "history.history[\"true_negatives\"],history.history[\"false_positives\"], history.history[\"true_positives\"]"
   ]
  },
  {
   "cell_type": "markdown",
   "id": "5a29267c",
   "metadata": {},
   "source": [
    "## Model Sensitivity "
   ]
  },
  {
   "cell_type": "code",
   "execution_count": 120,
   "id": "95d23fdd",
   "metadata": {},
   "outputs": [
    {
     "data": {
      "text/plain": [
       "0.8628841607565012"
      ]
     },
     "execution_count": 120,
     "metadata": {},
     "output_type": "execute_result"
    }
   ],
   "source": [
    "sensitivity(true_pos, false_neg)"
   ]
  },
  {
   "cell_type": "markdown",
   "id": "8ee6f478",
   "metadata": {},
   "source": [
    "## Model Specificity"
   ]
  },
  {
   "cell_type": "code",
   "execution_count": 121,
   "id": "8b9d70fe",
   "metadata": {},
   "outputs": [
    {
     "data": {
      "text/plain": [
       "0.8628841607565012"
      ]
     },
     "execution_count": 121,
     "metadata": {},
     "output_type": "execute_result"
    }
   ],
   "source": [
    "specificity(true_neg, false_pos)"
   ]
  },
  {
   "cell_type": "markdown",
   "id": "b778a278",
   "metadata": {},
   "source": [
    "## Model Accuracy "
   ]
  },
  {
   "cell_type": "code",
   "execution_count": 122,
   "id": "cbcd4e21",
   "metadata": {},
   "outputs": [
    {
     "data": {
      "text/plain": [
       "0.8628841638565063"
      ]
     },
     "execution_count": 122,
     "metadata": {},
     "output_type": "execute_result"
    }
   ],
   "source": [
    "history.history['accuracy'][-1]"
   ]
  },
  {
   "cell_type": "code",
   "execution_count": 123,
   "id": "cfed43d3",
   "metadata": {},
   "outputs": [],
   "source": [
    "#Save the model\n",
    "from tensorflow.keras.models import load_model\n",
    "model.save('glaucome-detection.h5')"
   ]
  },
  {
   "cell_type": "code",
   "execution_count": null,
   "id": "7936d8ee",
   "metadata": {},
   "outputs": [],
   "source": []
  },
  {
   "cell_type": "code",
   "execution_count": null,
   "id": "2ddd4c0b",
   "metadata": {},
   "outputs": [],
   "source": []
  },
  {
   "cell_type": "code",
   "execution_count": null,
   "id": "2d62ceb5",
   "metadata": {},
   "outputs": [],
   "source": []
  }
 ],
 "metadata": {
  "kernelspec": {
   "display_name": "glaucoma-env",
   "language": "python",
   "name": "glaucoma-env"
  },
  "language_info": {
   "codemirror_mode": {
    "name": "ipython",
    "version": 3
   },
   "file_extension": ".py",
   "mimetype": "text/x-python",
   "name": "python",
   "nbconvert_exporter": "python",
   "pygments_lexer": "ipython3",
   "version": "3.7.4"
  }
 },
 "nbformat": 4,
 "nbformat_minor": 5
}
